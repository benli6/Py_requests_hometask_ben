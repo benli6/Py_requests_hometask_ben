{
 "cells": [
  {
   "cell_type": "code",
   "execution_count": null,
   "metadata": {},
   "outputs": [],
   "source": [
    "# Task 1. Superheroes\n",
    "import requests\n",
    "from pprint import pprint\n",
    "\n",
    "def superhero_request():\n",
    "    url = \"https://cdn.jsdelivr.net/gh/akabab/superhero-api@0.3.0/api/all.json\"\n",
    "    response = requests.get(url)\n",
    "    heroes = response.json()\n",
    "    heroes_int = {}\n",
    "    for hero in heroes:\n",
    "        if hero['name'] in ['Hulk', 'Captain America', 'Thanos']:\n",
    "            heroes_int[hero['name']] = hero['powerstats']['intelligence']\n",
    "    print(max(heroes_int, key=heroes_int.get))\n",
    "\n",
    "\n",
    "if __name__ == '__main__':\n",
    "    superhero_request()"
   ]
  },
  {
   "cell_type": "code",
   "execution_count": 4,
   "metadata": {},
   "outputs": [],
   "source": [
    "# Task 2. Yandex API\n",
    "import requests\n",
    "\n",
    "class YaUploader:\n",
    "    def __init__(self, token: str):\n",
    "        self.token = token\n",
    "\n",
    "    def get_headers(self):\n",
    "        return {'Content-type': 'application/json',\n",
    "            'Authorization': f'OAuth {self.token}'}\n",
    "\n",
    "    def upload(self, file_path: str):\n",
    "        \"\"\"Метод загружает файлы на яндекс диск\"\"\"\n",
    "        url = \"https://cloud-api.yandex.net/v1/disk/resources/upload\"\n",
    "        headers = self.get_headers()\n",
    "        params = {\"path\": file_path, \"overwrite\": \"true\"}\n",
    "        response = requests.get(url, headers = headers, params = params)\n",
    "        response = response.json()\n",
    "        \n",
    "        href = response.get(\"href\", \"\")\n",
    "        result = requests.put(href, data=open(\"task_to_yadisk.txt\", 'rb'))\n",
    "\n",
    "\n",
    "if __name__ == '__main__':\n",
    "    # Получить путь к загружаемому файлу и токен от пользователя\n",
    "    path_to_file = \"Netology/hometask_to_yadisk.txt\"\n",
    "    token = input(\"Введите токен: \")\n",
    "    uploader = YaUploader(token)\n",
    "    result = uploader.upload(path_to_file)"
   ]
  },
  {
   "cell_type": "code",
   "execution_count": null,
   "metadata": {},
   "outputs": [],
   "source": [
    "# Task 3. Stackoverflow\n",
    "# чтобы не уронить стаковерфлоу и не словить бан за многочисленные запросы \n",
    "# (по тегу пайтон за 2 дня более 2 тысяч вопросов может быть)\n",
    "# сделан запрос только к 2 страницам по 50 вопросов на каждой\n",
    "import requests\n",
    "from pprint import pprint\n",
    "\n",
    "class APIstack:\n",
    "\n",
    "    def get_questions(self):\n",
    "        for i in range(1, 3):\n",
    "            page = i\n",
    "            url = 'https://api.stackexchange.com/2.3/questions'\n",
    "            params = {\"page\": f'{page}', \"pagesize\": 50, \"fromdate\": 1663977600, \\\n",
    "                    \"todate\": 1664064000, \"tagged\": \"python\", \"site\": \"stackoverflow\"}\n",
    "            response = requests.get(url, params=params)\n",
    "            result = response.json()\n",
    "            for quest in result[\"items\"]:\n",
    "                print(quest['title'])\n",
    "    \n",
    "if __name__ == '__main__':\n",
    "    result = APIstack()\n",
    "    result.get_questions()"
   ]
  }
 ],
 "metadata": {
  "kernelspec": {
   "display_name": "Python 3.10.1 64-bit",
   "language": "python",
   "name": "python3"
  },
  "language_info": {
   "codemirror_mode": {
    "name": "ipython",
    "version": 3
   },
   "file_extension": ".py",
   "mimetype": "text/x-python",
   "name": "python",
   "nbconvert_exporter": "python",
   "pygments_lexer": "ipython3",
   "version": "3.10.1"
  },
  "orig_nbformat": 4,
  "vscode": {
   "interpreter": {
    "hash": "e192c477015e0c8e4427e2a21fcada2aaf43102079abc726728a52ed32b2764a"
   }
  }
 },
 "nbformat": 4,
 "nbformat_minor": 2
}
